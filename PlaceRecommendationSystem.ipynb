{
  "nbformat": 4,
  "nbformat_minor": 0,
  "metadata": {
    "colab": {
      "provenance": []
    },
    "kernelspec": {
      "name": "python3",
      "display_name": "Python 3"
    },
    "language_info": {
      "name": "python"
    }
  },
  "cells": [
    {
      "cell_type": "code",
      "execution_count": 24,
      "metadata": {
        "id": "RZiodtnZ0imd"
      },
      "outputs": [],
      "source": [
        "#imports\n",
        "import pandas as pd\n",
        "import numpy as np\n",
        "import warnings\n",
        "warnings.filterwarnings('ignore')\n",
        "\n",
        "from sklearn.metrics.pairwise import cosine_similarity\n",
        "from sklearn.feature_extraction.text import CountVectorizer\n",
        "from geopy.geocoders import Nominatim\n",
        "\n",
        "import statsmodels.api as sm\n",
        "import matplotlib.pyplot as plt\n",
        "import seaborn as sns\n",
        "sns.set()\n",
        "from sklearn.cluster import KMeans\n",
        "\n",
        "df = pd.read_csv('/content/locations - Copy.csv', sep=',')\n",
        "\n",
        "\n",
        "#geopy in action\n",
        "country = 'India'\n",
        "city_names = df['location']\n",
        "\n",
        "longitude = []\n",
        "latitude = []\n",
        "geolocator = Nominatim(user_agent=\"Trips\")\n",
        "\n",
        "for c in city_names.values:\n",
        "    location = geolocator.geocode(c + ',' + country)\n",
        "    if location is not None:\n",
        "        latitude.append(location.latitude)\n",
        "        longitude.append(location.longitude)\n",
        "    else:\n",
        "        print(f\"Couldn't find coordinates for {c}\")\n",
        "\n",
        "\n",
        "\n",
        "df['Latitude'] = latitude\n",
        "df['Longitude'] = longitude\n",
        "\n",
        "l2 = df.iloc[:,-1:-3:-1]\n",
        "l2\n",
        "\n",
        "kmeans = KMeans(5)\n",
        "kmeans.fit(l2)\n",
        "\n",
        "identified_clusters = kmeans.fit_predict(l2)\n",
        "identified_clusters = list(identified_clusters)\n",
        "\n",
        "df['loc_clusters'] = identified_clusters\n"
      ]
    },
    {
      "cell_type": "code",
      "source": [
        "#finishing touches!\n",
        "input_city = input(\"Enter a city name: \")\n",
        "cluster = df.loc[df['location'] == input_city, 'loc_clusters']\n",
        "cluster = cluster.iloc[0]\n",
        "cluster\n",
        "cities = df.loc[df['loc_clusters'] == cluster, 'location']\n",
        "cities\n",
        "for c in range(len(cities)):\n",
        "    if cities.iloc[c] == input_city:\n",
        "        continue\n",
        "    else:\n",
        "        print(cities.iloc[c])"
      ],
      "metadata": {
        "colab": {
          "base_uri": "https://localhost:8080/"
        },
        "id": "2fyGoCId55_e",
        "outputId": "659f0a6f-db30-42b9-f43d-5ec4c00f50f4"
      },
      "execution_count": 26,
      "outputs": [
        {
          "output_type": "stream",
          "name": "stdout",
          "text": [
            "Enter a city name: Patiala\n",
            "Noida\n",
            "Agra\n",
            "Meerut\n",
            "Ludhiana\n",
            "Jalandhar\n",
            "Hoshiarpur\n",
            "Mohali\n",
            "Amritsar\n",
            "Gwalior\n",
            "Jaipur\n",
            "Jodhpur\n",
            "Bikaner\n",
            "Kota\n",
            "Ajmer\n",
            "Bharatpur\n",
            "Alwar\n",
            "Gurugram\n",
            "Karnal\n",
            "Faridabad\n",
            "Panipat\n",
            "Hisar\n",
            "Rohtak\n"
          ]
        }
      ]
    }
  ]
}